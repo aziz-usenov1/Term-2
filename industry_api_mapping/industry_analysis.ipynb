{
 "cells": [
  {
   "cell_type": "code",
   "execution_count": 6,
   "metadata": {},
   "outputs": [],
   "source": [
    "import pandas as pd"
   ]
  },
  {
   "cell_type": "code",
   "execution_count": 7,
   "metadata": {},
   "outputs": [
    {
     "data": {
      "text/html": [
       "<div>\n",
       "<style scoped>\n",
       "    .dataframe tbody tr th:only-of-type {\n",
       "        vertical-align: middle;\n",
       "    }\n",
       "\n",
       "    .dataframe tbody tr th {\n",
       "        vertical-align: top;\n",
       "    }\n",
       "\n",
       "    .dataframe thead th {\n",
       "        text-align: right;\n",
       "    }\n",
       "</style>\n",
       "<table border=\"1\" class=\"dataframe\">\n",
       "  <thead>\n",
       "    <tr style=\"text-align: right;\">\n",
       "      <th></th>\n",
       "      <th>industry_code</th>\n",
       "      <th>industry_name</th>\n",
       "    </tr>\n",
       "  </thead>\n",
       "  <tbody>\n",
       "    <tr>\n",
       "      <th>0</th>\n",
       "      <td>0</td>\n",
       "      <td>Total Nonfarm</td>\n",
       "    </tr>\n",
       "    <tr>\n",
       "      <th>1</th>\n",
       "      <td>5000000</td>\n",
       "      <td>Total Private</td>\n",
       "    </tr>\n",
       "    <tr>\n",
       "      <th>2</th>\n",
       "      <td>6000000</td>\n",
       "      <td>Goods Producing</td>\n",
       "    </tr>\n",
       "    <tr>\n",
       "      <th>3</th>\n",
       "      <td>7000000</td>\n",
       "      <td>Service-Providing</td>\n",
       "    </tr>\n",
       "    <tr>\n",
       "      <th>4</th>\n",
       "      <td>8000000</td>\n",
       "      <td>Private Service Providing</td>\n",
       "    </tr>\n",
       "    <tr>\n",
       "      <th>5</th>\n",
       "      <td>10000000</td>\n",
       "      <td>Mining and Logging</td>\n",
       "    </tr>\n",
       "    <tr>\n",
       "      <th>6</th>\n",
       "      <td>10113300</td>\n",
       "      <td>Logging</td>\n",
       "    </tr>\n",
       "    <tr>\n",
       "      <th>7</th>\n",
       "      <td>10210000</td>\n",
       "      <td>Mining, Quarrying, and Oil and Gas Extraction</td>\n",
       "    </tr>\n",
       "    <tr>\n",
       "      <th>8</th>\n",
       "      <td>10211000</td>\n",
       "      <td>Oil and Gas Extraction</td>\n",
       "    </tr>\n",
       "    <tr>\n",
       "      <th>9</th>\n",
       "      <td>10212000</td>\n",
       "      <td>Mining (except Oil and Gas)</td>\n",
       "    </tr>\n",
       "  </tbody>\n",
       "</table>\n",
       "</div>"
      ],
      "text/plain": [
       "   industry_code                                  industry_name\n",
       "0              0                                  Total Nonfarm\n",
       "1        5000000                                  Total Private\n",
       "2        6000000                                Goods Producing\n",
       "3        7000000                              Service-Providing\n",
       "4        8000000                      Private Service Providing\n",
       "5       10000000                             Mining and Logging\n",
       "6       10113300                                        Logging\n",
       "7       10210000  Mining, Quarrying, and Oil and Gas Extraction\n",
       "8       10211000                         Oil and Gas Extraction\n",
       "9       10212000                    Mining (except Oil and Gas)"
      ]
     },
     "execution_count": 7,
     "metadata": {},
     "output_type": "execute_result"
    }
   ],
   "source": [
    "api_industry = pd.read_csv('Industry_Codes_Data.csv')\n",
    "api_industry.head(10)"
   ]
  },
  {
   "cell_type": "code",
   "execution_count": 8,
   "metadata": {},
   "outputs": [],
   "source": [
    "api_industry = api_industry.iloc[2:].reset_index(drop=True)"
   ]
  },
  {
   "cell_type": "code",
   "execution_count": 9,
   "metadata": {},
   "outputs": [],
   "source": [
    "# api_industry.to_csv('api_industry.csv', index=False)"
   ]
  },
  {
   "cell_type": "code",
   "execution_count": 11,
   "metadata": {},
   "outputs": [
    {
     "name": "stdout",
     "output_type": "stream",
     "text": [
      "unique values:  338\n",
      "=======\n",
      "null values summary: \n",
      " industry_code    0\n",
      "industry_name    0\n",
      "dtype: int64\n"
     ]
    }
   ],
   "source": [
    "print('unique values: ', len(api_industry['industry_name'].unique()))\n",
    "print('=======')\n",
    "print('null values summary: \\n', api_industry.isna().sum())"
   ]
  },
  {
   "cell_type": "code",
   "execution_count": 12,
   "metadata": {},
   "outputs": [
    {
     "data": {
      "text/html": [
       "<div>\n",
       "<style scoped>\n",
       "    .dataframe tbody tr th:only-of-type {\n",
       "        vertical-align: middle;\n",
       "    }\n",
       "\n",
       "    .dataframe tbody tr th {\n",
       "        vertical-align: top;\n",
       "    }\n",
       "\n",
       "    .dataframe thead th {\n",
       "        text-align: right;\n",
       "    }\n",
       "</style>\n",
       "<table border=\"1\" class=\"dataframe\">\n",
       "  <thead>\n",
       "    <tr style=\"text-align: right;\">\n",
       "      <th></th>\n",
       "      <th>industry_id</th>\n",
       "      <th>industry_name</th>\n",
       "    </tr>\n",
       "  </thead>\n",
       "  <tbody>\n",
       "    <tr>\n",
       "      <th>0</th>\n",
       "      <td>1</td>\n",
       "      <td>Defense and Space Manufacturing</td>\n",
       "    </tr>\n",
       "    <tr>\n",
       "      <th>1</th>\n",
       "      <td>3</td>\n",
       "      <td>Computer Hardware Manufacturing</td>\n",
       "    </tr>\n",
       "    <tr>\n",
       "      <th>2</th>\n",
       "      <td>4</td>\n",
       "      <td>Software Development</td>\n",
       "    </tr>\n",
       "    <tr>\n",
       "      <th>3</th>\n",
       "      <td>5</td>\n",
       "      <td>Computer Networking Products</td>\n",
       "    </tr>\n",
       "    <tr>\n",
       "      <th>4</th>\n",
       "      <td>6</td>\n",
       "      <td>Technology, Information and Internet</td>\n",
       "    </tr>\n",
       "    <tr>\n",
       "      <th>5</th>\n",
       "      <td>7</td>\n",
       "      <td>Semiconductor Manufacturing</td>\n",
       "    </tr>\n",
       "    <tr>\n",
       "      <th>6</th>\n",
       "      <td>8</td>\n",
       "      <td>Telecommunications</td>\n",
       "    </tr>\n",
       "    <tr>\n",
       "      <th>7</th>\n",
       "      <td>9</td>\n",
       "      <td>Law Practice</td>\n",
       "    </tr>\n",
       "    <tr>\n",
       "      <th>8</th>\n",
       "      <td>10</td>\n",
       "      <td>Legal Services</td>\n",
       "    </tr>\n",
       "    <tr>\n",
       "      <th>9</th>\n",
       "      <td>11</td>\n",
       "      <td>Business Consulting and Services</td>\n",
       "    </tr>\n",
       "  </tbody>\n",
       "</table>\n",
       "</div>"
      ],
      "text/plain": [
       "   industry_id                         industry_name\n",
       "0            1       Defense and Space Manufacturing\n",
       "1            3       Computer Hardware Manufacturing\n",
       "2            4                  Software Development\n",
       "3            5          Computer Networking Products\n",
       "4            6  Technology, Information and Internet\n",
       "5            7           Semiconductor Manufacturing\n",
       "6            8                    Telecommunications\n",
       "7            9                          Law Practice\n",
       "8           10                        Legal Services\n",
       "9           11      Business Consulting and Services"
      ]
     },
     "execution_count": 12,
     "metadata": {},
     "output_type": "execute_result"
    }
   ],
   "source": [
    "linkedin_industry = pd.read_csv('industries.csv')\n",
    "linkedin_industry.head(10)"
   ]
  },
  {
   "cell_type": "code",
   "execution_count": 13,
   "metadata": {},
   "outputs": [
    {
     "name": "stdout",
     "output_type": "stream",
     "text": [
      "unique values:  389\n",
      "=======\n",
      "null values summary: \n",
      " industry_id       0\n",
      "industry_name    34\n",
      "dtype: int64\n"
     ]
    }
   ],
   "source": [
    "print('unique values: ', len(linkedin_industry['industry_name'].unique()))\n",
    "print('=======')\n",
    "print('null values summary: \\n', linkedin_industry.isna().sum())"
   ]
  },
  {
   "cell_type": "code",
   "execution_count": 14,
   "metadata": {},
   "outputs": [],
   "source": [
    "linkedin_industry.dropna(inplace=True)"
   ]
  },
  {
   "cell_type": "code",
   "execution_count": null,
   "metadata": {},
   "outputs": [],
   "source": [
    "# linkedin_industry.to_csv('linkedin_industry.csv', index=False)"
   ]
  },
  {
   "cell_type": "markdown",
   "metadata": {},
   "source": [
    "#### Semantic Matching (Sentence-BERT)"
   ]
  },
  {
   "cell_type": "code",
   "execution_count": 57,
   "metadata": {},
   "outputs": [],
   "source": [
    "from sklearn.feature_extraction.text import TfidfVectorizer\n",
    "from sklearn.decomposition import TruncatedSVD\n",
    "from sklearn.cluster import KMeans\n",
    "import numpy as np\n",
    "\n",
    "# Combine both datasets for clustering\n",
    "combined_names = pd.concat([api_industry['industry_name'], linkedin_industry['industry_name']]).unique()\n",
    "\n",
    "# TF-IDF vectorization\n",
    "vectorizer = TfidfVectorizer(stop_words='english')\n",
    "X = vectorizer.fit_transform(combined_names)\n",
    "\n",
    "# Dimensionality reduction\n",
    "svd = TruncatedSVD(n_components=100, random_state=42)\n",
    "X_reduced = svd.fit_transform(X)\n",
    "\n",
    "# KMeans clustering\n",
    "num_clusters = 25\n",
    "kmeans = KMeans(n_clusters=num_clusters, random_state=42)\n",
    "clusters = kmeans.fit_predict(X_reduced)\n",
    "\n",
    "# Assign clusters to names\n",
    "clustered_df = pd.DataFrame({'Name': combined_names, 'Cluster': clusters})\n"
   ]
  },
  {
   "cell_type": "code",
   "execution_count": 91,
   "metadata": {},
   "outputs": [],
   "source": [
    "# Combine both datasets' industry names for clustering\n",
    "combined_names = pd.concat([api_industry['industry_name'], linkedin_industry['industry_name']]).drop_duplicates().reset_index(drop=True)\n",
    "\n",
    "# TF-IDF vectorization\n",
    "vectorizer = TfidfVectorizer(stop_words='english')\n",
    "X = vectorizer.fit_transform(combined_names)\n",
    "\n",
    "# Dimensionality reduction with appropriate n_components\n",
    "svd = TruncatedSVD(n_components=min(X.shape[1] - 1, 100), random_state=42)  # Adjust components dynamically\n",
    "X_reduced = svd.fit_transform(X)\n",
    "\n",
    "# KMeans clustering with 25 clusters\n",
    "num_clusters = 25\n",
    "kmeans = KMeans(n_clusters=num_clusters, random_state=42)\n",
    "clusters = kmeans.fit_predict(X_reduced)\n",
    "\n",
    "# Assign clusters to names\n",
    "clustered_df_clusters = pd.DataFrame({'Name': combined_names, 'Cluster': clusters})"
   ]
  },
  {
   "cell_type": "code",
   "execution_count": 97,
   "metadata": {},
   "outputs": [
    {
     "name": "stdout",
     "output_type": "stream",
     "text": [
      "Cluster 0:\n",
      "['Health and Personal Care Retailers', 'Health Care and Social Assistance', 'Ambulatory Health Care Services', 'Home Health Care Services', 'Other Ambulatory Health Care Services', 'Child Care Services', 'Personal Care Services', 'Hospitals and Health Care', 'Mental Health Care', 'Retail Health and Personal Care Products', 'Health and Human Services', 'Public Health', 'Health, Wellness & Fitness']\n",
      "\n",
      "Cluster 1:\n",
      "['Goods Producing', 'Service-Providing', 'Private Service Providing', 'Mining and Logging', 'Logging', 'Coal Mining', 'Metal Ore Mining', 'Land Subdivision', 'Specialty Trade Contractors', 'Foundation, Structure, and Building Exterior Contractors', 'Building Finishing Contractors', 'Other Specialty Trade Contractors', 'Sawmills and Wood Preservation', 'Foundries', 'Ship and Boat Building', 'Non-Durable Goods', 'Grain and Oilseed Milling', 'Animal Slaughtering and Processing', 'Retail Trade', 'Automobile Dealers', 'Automotive Parts, Accessories, and Tire Retailers', 'Building Material and Supplies Dealers', 'Grocery and Convenience Retailers', 'Beer, Wine, and Liquor Retailers', 'Electronics and Appliance Retailers', 'General Merchandise Retailers', 'Warehouse Clubs, Supercenters, and Other General Merchandise Retailers', 'Gasoline Stations and Fuel Dealers', 'Clothing, Clothing Accessories, Shoe, and Jewelry Retailers', 'Clothing and Clothing Accessories Retailers', 'Jewelry, Luggage, and Leather Goods Retailers', 'Sporting Goods, Hobby, Musical Instrument, Book, and Miscellaneous Retailers', 'Sporting Goods, Hobby, and Musical Instrument Retailers', 'Book Retailers and News Dealers', 'Office Supplies, Stationery, and Gift Retailers', 'Used Merchandise Retailers', 'Other Miscellaneous Retailers', 'Utilities', 'Electric Power Generation, Transmission and Distribution', 'Natural Gas Distribution', 'General Freight Trucking', 'Specialized Freight Trucking', 'Taxi and Limousine Service', 'Couriers and Messengers', 'Warehousing and Storage', 'Information', 'Motion Picture and Sound Recording Industries', 'Motion Picture and Video Industries', 'Motion Picture and Video Production', 'Publishing Industries', 'Newspaper, Periodical, Book, and Directory Publishers', 'Software Publishers', 'Broadcasting and Content Providers', 'Radio and Television Broadcasting Stations', 'Media Streaming Distribution Services, Social Networks, and Other Media Networks and Content Providers', 'Telecommunications', 'Wired and Wireless Telecommunications (except Satellite)', 'Wired Telecommunications Carriers', 'Computing Infrastructure Providers, Data Processing, Web Hosting, and Related Services', 'Financial Activities', 'Finance and Insurance', 'Credit Intermediation and Related Activities including Monetary Authorities - Central Bank', 'Depository Credit Intermediation including Monetary Authorities - Central Bank', 'Commercial Banking', 'Nondepository Credit Intermediation', 'Activities Related to Credit Intermediation', 'Financial Investments and Related Activities including Financial Vehicles', 'Securities and Commodity Contracts Intermediation and Brokerage', 'Investment Banking and Securities Intermediation', 'Other Financial Investment Activities including Financial Vehicles', 'Insurance Carriers and Related Activities', 'Insurance Carriers', 'Direct Life Insurance Carriers', 'Direct Health and Medical Insurance Carriers', 'Direct Property and Casualty Insurance Carriers', 'Agencies, Brokerages, and Other Insurance Related Activities', 'Real Estate and Rental and Leasing', 'Real Estate', 'Lessors of Real Estate', 'Activities Related to Real Estate', 'Consumer Goods Rental', 'General Rental Centers', 'Management of Companies and Enterprises', 'Telephone Call Centers', 'Private Elementary and Secondary Schools', 'Private Junior Colleges', 'Private Colleges, Universities, and Professional Schools', 'Other Private School and Instruction', 'Outpatient Care Centers', 'Medical and Diagnostic Laboratories', 'Hospitals', 'General Medical and Surgical Hospitals', 'Psychiatric and Substance Abuse Hospitals', 'Specialty (except Psychiatric and Substance Abuse) Hospitals', 'Nursing and Residential Care Facilities', 'Nursing Care Facilities (Skilled Nursing Facilities)', 'Residential Intellectual and Developmental Disability, Mental Health, and Substance Abuse Facilities', 'Continuing Care Retirement Communities and Assisted Living Facilities for the Elderly', 'Other Residential Care Facilities', 'Social Assistance', 'Leisure and Hospitality', 'Arts, Entertainment, and Recreation', 'Independent Artists, Writers, and Performers', 'Museums, Historical Sites, and Similar Institutions', 'Amusement, Gambling, and Recreation Industries', 'Amusement Parks and Arcades', 'Gambling Industries', 'Other Amusement and Recreation Industries', 'Fitness and Recreational Sports Centers', 'Accommodation', 'Traveler Accommodation', 'Hotels (except Casino Hotels) and Motels', 'Casino Hotels', 'Drinking Places (Alcoholic Beverages)', 'Restaurants and Other Eating Places', 'Full-Service Restaurants', 'Limited-Service Restaurants and Other Eating Places', 'Repair and Maintenance', 'Automotive Repair and Maintenance', 'Personal and Household Goods Repair and Maintenance', 'Religious, Grantmaking, Civic, Professional, and Similar Organizations', 'Religious Organizations', 'Social Advocacy Organizations', 'Civic and Social Organizations', 'Business, Professional, Labor, Political, and Similar Organizations', 'U.S. Postal Service', 'Indian Tribes', 'Software Development', 'Computer Networking Products', 'Technology, Information and Internet', 'Law Practice', 'Medical Practices', 'Retail Apparel and Fashion', 'Retail Groceries', 'Retail', 'Entertainment Providers', 'Gambling Facilities and Casinos', 'Travel Arrangements', 'Hospitality', 'Restaurants', 'Movies, Videos, and Sound', 'Broadcast Media Production and Distribution', 'Museums, Historical Sites, and Zoos', 'Artists and Writers', 'Recreational Facilities', 'Banking', 'Insurance', 'Investment Banking', 'Investment Management', 'Accounting', 'Architecture and Planning', 'Civil Engineering', 'Mining', 'Shipbuilding', 'Farming', 'Fisheries', 'Armed Forces', 'Administration of Justice', 'International Affairs', 'Law Enforcement', 'Public Safety', 'Newspaper Publishing', 'Book and Periodical Publishing', 'Libraries', 'Religious Institutions', 'Airlines and Aviation', 'Non-profit Organizations', 'Fundraising', 'Writing and Editing', 'Staffing and Recruiting', 'Professional Training and Coaching', 'Venture Capital and Private Equity Principals', 'Political Organizations', 'Translation and Localization', 'Computer Games', 'Retail Art Supplies', 'Online Audio and Video Media', 'Musicians', 'Computer and Network Security', 'Alternative Dispute Resolution', 'Security and Investigations', 'Outsourcing and Offshoring Consulting', 'Alternative Medicine', 'Media Production', 'Animation and Post-production', 'Leasing Non-residential Real Estate', 'Capital Markets', 'Think Tanks', 'E-Learning Providers', 'Photography', 'International Trade and Development', 'Retail Luxury Goods and Jewelry', 'Horticulture', 'Farming, Ranching, Forestry', 'Forestry and Logging', 'Electric Power Transmission, Control, and Distribution', 'Electric Power Generation', 'Solar Electric Power Generation', 'Environmental Quality Programs', 'Fabricated Metal Products', 'Metal Treatments', 'Internet Marketplace Platforms', 'Retail Musical Instruments', 'Retail Books and Printed News', 'Retail Florists', 'Retail Office Supplies and Gifts', 'Retail Recyclable Materials & Used Merchandise', 'Online and Mail Order Retail', 'Technology, Information and Media', 'Credit Intermediation', 'Loan Brokers', 'Securities and Commodity Exchanges', 'Investment Advice', 'Insurance Agencies and Brokerages', 'Funds and Trusts', 'Insurance and Employee Benefit Funds', 'Pension Funds', 'Trusts and Estates', 'Real Estate Agents and Brokers', 'Holding Companies', 'Office Administration', 'Collection Agencies', 'Waste Treatment and Disposal', 'Technical and Vocational Training', 'Sports and Recreation Instruction', 'Dentists', 'Physical, Occupational and Speech Therapists', 'Nursing Homes and Residential Care Facilities', 'Theater Companies', 'Sports Teams and Clubs', 'Museums', 'Zoos and Botanical Gardens', 'Golf Courses and Country Clubs', 'Hotels and Motels', 'Bed-and-Breakfasts, Hostels, Homestays', 'Caterers', 'Public Assistance Programs', 'Air, Water, and Waste Program Management', 'Conservation Programs', 'Housing and Community Development', 'Community Development and Urban Planning', 'Economic Programs', 'Military and International Affairs', 'Operations Consulting', 'Data Infrastructure and Analytics', 'Wind Electric Power Generation', 'Wineries', 'Courts of Law', 'Correctional Institutions', 'Fire Protection', 'Housing Programs', 'Utilities Administration', 'Desktop Computing Software Products', 'IT System Custom Software Development', 'IT System Operations and Maintenance', 'IT System Installation and Disposal', 'IT System Testing and Evaluation', 'Internet News', 'Social Networking Platforms', 'Business Intelligence Platforms', 'Business Content', 'Data Security Software Products', 'Internet Publishing', 'Veterinary', 'Cosmetics', 'Apparel & Fashion', 'Consumer Electronics', 'Consumer Goods', 'Leisure, Travel & Tourism', 'Fine Art', 'Building Materials', 'Automotive', 'Dairy', 'Non-profit Organization Management', 'Program Development', 'E-learning', 'Human Resources', 'Luxury Goods & Jewelry', 'Renewables & Environment', 'Online Media', 'Industrial Automation', 'Medical Device', 'Semiconductors', 'Commercial Real Estate', 'Wine & Spirits', 'Mechanical Or Industrial Engineering', 'Packaging & Containers', 'Aviation & Aerospace', 'Warehousing', 'Computer Networking', 'Computer Hardware', 'Maritime', 'Entertainment', 'Biotechnology', 'Paper & Forest Products', 'Renewable Energy Power Generation', 'Robotics Engineering', 'Retail Pharmacies', 'Climate Data and Analytics']\n",
      "\n",
      "Cluster 2:\n",
      "['Mining, Quarrying, and Oil and Gas Extraction', 'Oil and Gas Extraction', 'Mining (except Oil and Gas)', 'Drilling Oil and Gas Wells', 'Support Activities for Oil and Gas Operations', 'Oil and Gas', 'Oil, Gas, and Mining']\n",
      "\n",
      "Cluster 3:\n",
      "['Building Equipment Contractors', 'Engine, Turbine, and Power Transmission Equipment Manufacturing', 'Computer and Peripheral Equipment Manufacturing', 'Communications Equipment Manufacturing', 'Electrical Equipment, Appliance, and Component Manufacturing', 'Electrical Equipment Manufacturing', 'Transportation Equipment Manufacturing', 'Medical Equipment and Supplies Manufacturing', 'Building Material and Garden Equipment and Supplies Dealers', 'Automotive Equipment Rental and Leasing', 'Commercial and Industrial Machinery and Equipment Rental and Leasing', 'Commercial and Industrial Machinery and Equipment (except Automotive and Electronic) Repair and Maintenance', 'Medical Equipment Manufacturing', 'Railroad Equipment Manufacturing', 'Retail Office Equipment', 'HVAC and Refrigeration Equipment Manufacturing', 'Engines and Power Transmission Equipment Manufacturing', 'Audio and Video Equipment Manufacturing', 'Electric Lighting Equipment Manufacturing', 'Retail Appliances, Electrical, and Electronic Equipment', 'Retail Building Materials and Garden Equipment', 'Real Estate and Equipment Rental Services', 'Equipment Rental Services', 'Commercial and Industrial Equipment Rental', 'Renewable Energy Equipment Manufacturing']\n",
      "\n",
      "Cluster 4:\n",
      "['Government', 'Federal Government', 'Federal Government excluding Postal Service', 'Federal Government Hospitals', 'State Government', 'State Government Educational Services', 'State Government Excluding Education', 'State Government Hospitals', 'State Government excluding Educational Services and Hospitals', 'Local Government', 'Local Government Educational Services', 'Local Government excluding Educational Services', 'Local Government Hospitals', 'Total State and Local Government', 'District of Columbia Government', 'Government Administration', 'Government Relations Services']\n",
      "\n",
      "Cluster 5:\n",
      "['Wood Product Manufacturing', 'Veneer, Plywood, and Engineered Wood Product Manufacturing', 'Other Wood Product Manufacturing', 'Nonmetallic Mineral Product Manufacturing', 'Cement and Concrete Product Manufacturing', 'Fabricated Metal Product Manufacturing', 'Machine Shops; Turned Product; and Screw, Nut, and Bolt Manufacturing', 'Other Fabricated Metal Product Manufacturing', 'Computer and Electronic Product Manufacturing', 'Aerospace Product and Parts Manufacturing', 'Furniture and Related Product Manufacturing', 'Dairy Product Manufacturing', 'Seafood Product Preparation and Packaging', 'Beverage and Tobacco Product Manufacturing', 'Converted Paper Product Manufacturing', 'Plastics Product Manufacturing', 'Rubber Product Manufacturing', 'Personal Care Product Manufacturing', 'Paper and Forest Product Manufacturing', 'Sugar and Confectionery Product Manufacturing', 'Seafood Product Manufacturing', 'Oil and Coal Product Manufacturing', 'Soap and Cleaning Product Manufacturing', 'Plastics and Rubber Product Manufacturing', 'Glass Product Manufacturing', 'Spring and Wire Product Manufacturing', 'Climate Technology Product Manufacturing']\n",
      "\n",
      "Cluster 6:\n",
      "['Food Manufacturing', 'Fruit and Vegetable Preserving and Specialty Food Manufacturing', 'Other Food Manufacturing', 'Food and Beverage Retailers', 'Specialty Food Retailers', 'Community Food and Housing, and Emergency and Other Relief Services', 'Accommodation and Food Services', 'Food Services and Drinking Places', 'Special Food Services', 'Food and Beverage Manufacturing', 'Food and Beverage Services', 'Wholesale Food and Beverage', 'Food and Beverage Retail', 'Food & Beverages', 'Food Production']\n",
      "\n",
      "Cluster 7:\n",
      "['Administrative and Support and Waste Management and Remediation Services', 'Administrative and Support Services', 'Office Administrative Services', 'Facilities Support Services', 'Business Support Services', 'Other Support Services', 'IT System Training and Support']\n",
      "\n",
      "Cluster 8:\n",
      "['Specialized Design Services', 'Computer Systems Design and Related Services', 'Design Services', 'Graphic Design', 'IT System Design Services', 'Interior Design', 'Design', 'Accessible Architecture and Design']\n",
      "\n",
      "Cluster 9:\n",
      "['Support Activities for Mining', 'Printing and Related Support Activities', 'Support Activities for Transportation', 'Support Activities for Air Transportation', 'Support Activities for Water Transportation', 'Support Activities for Road Transportation']\n",
      "\n",
      "Cluster 10:\n",
      "['Motor Vehicle Manufacturing', 'Motor Vehicle Body and Trailer Manufacturing', 'Motor Vehicle Parts Manufacturing', 'Motor Vehicle and Motor Vehicle Parts and Supplies Merchant Wholesalers', 'Motor Vehicle and Parts Dealers', 'Other Motor Vehicle Dealers', 'Wholesale Motor Vehicles and Parts', 'Retail Motor Vehicles', 'Vehicle Repair and Maintenance', 'Alternative Fuel Vehicle Manufacturing']\n",
      "\n",
      "Cluster 11:\n",
      "['Private Education and Health Services', 'Local Government Elementary and Secondary Education', 'Primary and Secondary Education', 'Higher Education', 'Education Administration Programs', 'Education', 'Education Management']\n",
      "\n",
      "Cluster 12:\n",
      "['Web Search Portals, Libraries, Archives, and Other Information Services', 'Rental and Leasing Services', 'Professional and Business Services', 'Professional, Scientific, and Technical Services', 'Legal Services', 'Accounting, Tax Preparation, Bookkeeping, and Payroll Services', 'Architectural, Engineering, and Related Services', 'Management, Scientific, and Technical Consulting Services', 'Advertising, Public Relations, and Related Services', 'Other Professional, Scientific, and Technical Services', 'Employment Services', 'Temporary Help Services', 'Travel Arrangement and Reservation Services', 'Investigation and Security Services', 'Investigation, Guard, and Armored Car Services', 'Services to Buildings and Dwellings', 'Waste Management and Remediation Services', 'Private Educational Services', 'Individual and Family Services', 'Services for the Elderly and Persons with Disabilities', 'Vocational Rehabilitation Services', 'Other Services', 'Personal and Laundry Services', 'Drycleaning and Laundry Services', 'Other Personal Services', 'Grantmaking and Giving Services', 'Business Consulting and Services', 'Veterinary Services', 'Financial Services', 'Advertising Services', 'Printing Services', 'Information Services', 'Environmental Services', 'Consumer Services', 'IT Services and IT Consulting', 'Public Relations and Communications Services', 'Strategic Management Services', 'Events Services', 'Wireless Services', 'Facilities Services', 'Wellness and Fitness Services', 'Philanthropic Fundraising Services', 'Human Resources Services', 'Water, Waste, Steam, and Air Conditioning Services', 'Urban Transit Services', 'School and Employee Bus Services', 'Claims Adjusting, Actuarial Services', 'Professional Services', 'Marketing Services', 'Executive Search Services', 'Security Systems Services', 'Janitorial Services', 'Community Services', 'Household Services', 'Landscaping Services', 'IT System Data Services', 'Blockchain Services', 'Information Technology & Services', 'Engineering Services', 'Services for Renewable Energy', 'Digital Accessibility Services', 'Surveying and Mapping Services']\n",
      "\n",
      "Cluster 13:\n",
      "['Department Stores', 'Federal Government excluding Department of Defense', 'Federal Government excluding Postal Service, Department of Defense, Ship Building, and Hospitals', 'Department of Defense', 'Department of Defense, including Ship Building', 'Department of Defense, including Ship Building and Hospitals', 'Defense and Space Manufacturing', 'Defense & Space']\n",
      "\n",
      "Cluster 14:\n",
      "['Scientific Research and Development Services', 'Biotechnology Research', 'Research Services', 'Market Research', 'Nanotechnology Research', 'Space Research and Technology', 'Research']\n",
      "\n",
      "Cluster 15:\n",
      "['Mining, Logging and Construction', 'Construction', 'Construction of Buildings', 'Residential Building Construction', 'Nonresidential Building Construction', 'Heavy and Civil Engineering Construction', 'Utility System Construction', 'Highway, Street, and Bridge Construction', 'Other Heavy and Civil Engineering Construction', 'Agriculture, Construction, and Mining Machinery Manufacturing', 'Building Construction', 'Construction Hardware Manufacturing', 'Agriculture, Construction, Mining Machinery Manufacturing']\n",
      "\n",
      "Cluster 16:\n",
      "['Furniture, Home Furnishings, Electronics, and Appliance Retailers', 'Furniture and Home Furnishings Retailers', 'Furniture Retailers', 'Home Furnishings Retailers', 'Furniture and Home Furnishings Manufacturing', 'Wholesale Furniture and Home Furnishings', 'Retail Furniture and Home Furnishings', 'Furniture']\n",
      "\n",
      "Cluster 17:\n",
      "['Performing Arts, Spectator Sports, and Related Industries', 'Performing Arts Companies', 'Spectator Sports', 'Promoters of Performing Arts, Sports, and Similar Events', 'Performing Arts', 'Performing Arts and Spectator Sports']\n",
      "\n",
      "Cluster 18:\n",
      "['Wholesale Trade', 'Wholesale Trade Agents and Brokers', 'Wholesale Building Materials', 'Wholesale', 'Wholesale Import and Export', 'Wholesale Photography Equipment and Supplies', 'Wholesale Computer Equipment', 'Wholesale Metals and Minerals', 'Wholesale Appliances, Electrical, and Electronics', 'Wholesale Hardware, Plumbing, Heating Equipment', 'Wholesale Machinery', 'Wholesale Recyclable Materials', 'Wholesale Luxury Goods and Jewelry', 'Wholesale Paper Products', 'Wholesale Drugs and Sundries', 'Wholesale Apparel and Sewing Supplies', 'Wholesale Footwear', 'Wholesale Raw Farm Products', 'Wholesale Petroleum and Petroleum Products', 'Wholesale Alcoholic Beverages']\n",
      "\n",
      "Cluster 19:\n",
      "['Trade, Transportation, and Utilities', 'Transportation, Warehousing, and Utilities', 'Transportation and Warehousing', 'Air Transportation', 'Scheduled Air Transportation', 'Rail Transportation', 'Water Transportation', 'Truck Transportation', 'Transit and Ground Passenger Transportation', 'School and Employee Bus Transportation', 'Pipeline Transportation', 'Freight Transportation Arrangement', 'Transportation', 'Freight and Package Transportation', 'Maritime Transportation', 'Transportation, Logistics, Supply Chain and Storage', 'Ground Passenger Transportation', 'Transportation Programs', 'Transportation/Trucking/Railroad']\n",
      "\n",
      "Cluster 20:\n",
      "['Offices of Real Estate Agents and Brokers', 'Offices of Physicians', 'Offices of Dentists', 'Offices of Other Health Practitioners', 'Legislative Offices', 'Executive Offices', 'Public Policy Offices']\n",
      "\n",
      "Cluster 21:\n",
      "['Iron and Steel Mills and Ferroalloy Manufacturing', 'Textile Mills', 'Fiber, Yarn, and Thread Mills', 'Fabric Mills', 'Textile and Fabric Finishing and Fabric Coating Mills', 'Textile Product Mills', 'Textile Furnishings Mills', 'Apparel Knitting Mills', 'Pulp, Paper, and Paperboard Mills', 'Textile Manufacturing']\n",
      "\n",
      "Cluster 22:\n",
      "['Chemical Manufacturing', 'Basic Chemical Manufacturing', 'Chemical and Allied Products Merchant Wholesalers', 'Chemical Raw Materials Manufacturing', 'Agricultural Chemical Manufacturing', 'Wholesale Chemical and Allied Products']\n",
      "\n",
      "Cluster 23:\n",
      "['Durable Goods', 'Merchant Wholesalers, Durable Goods', 'Furniture and Home Furnishing Merchant Wholesalers', 'Lumber and Other Construction Materials Merchant Wholesalers', 'Professional and Commercial Equipment and Supplies Merchant Wholesalers', 'Household Appliances and Electrical and Electronic Goods Merchant Wholesalers', 'Hardware, and Plumbing and Heating Equipment and Supplies Merchant Wholesalers', 'Machinery, Equipment, and Supplies Merchant Wholesalers', 'Miscellaneous Durable Goods Merchant Wholesalers', 'Merchant Wholesalers, Nondurable Goods', 'Paper and Paper Product Merchant Wholesalers', 'Apparel, Piece Goods, and Notions Merchant Wholesalers', 'Grocery and Related Product Merchant Wholesalers', 'Miscellaneous Nondurable Goods Merchant Wholesalers']\n",
      "\n",
      "Cluster 24:\n",
      "['Manufacturing', 'Primary Metal Manufacturing', 'Architectural and Structural Metals Manufacturing', 'Machinery Manufacturing', 'Industrial Machinery Manufacturing', 'Commercial and Service Industry Machinery Manufacturing', 'Metalworking Machinery Manufacturing', 'Other General Purpose Machinery Manufacturing', 'Electronic Computer Manufacturing', 'Semiconductor and Other Electronic Component Manufacturing', 'Bare Printed Circuit Board Manufacturing', 'Semiconductor and Related Device Manufacturing', 'Navigational, Measuring, Electromedical, and Control Instruments Manufacturing', 'Household Appliance Manufacturing', 'Household and Institutional Furniture and Kitchen Cabinet Manufacturing', 'Miscellaneous Manufacturing', 'Other Miscellaneous Manufacturing', 'Jewelry and Silverware Manufacturing', 'Bakeries and Tortilla Manufacturing', 'Beverage Manufacturing', 'Tobacco Manufacturing', 'Apparel Manufacturing', 'Cut and Sew Apparel Manufacturing', 'Paper Manufacturing', 'Petroleum and Coal Products Manufacturing', 'Pharmaceutical and Medicine Manufacturing', 'Soap, Cleaning Compound, and Toilet Preparation Manufacturing', 'Plastics and Rubber Products Manufacturing', 'Computer Hardware Manufacturing', 'Semiconductor Manufacturing', 'Pharmaceutical Manufacturing', 'Sporting Goods Manufacturing', 'Computers and Electronics Manufacturing', 'Aviation and Aerospace Component Manufacturing', 'Appliances, Electrical, and Electronics Manufacturing', 'Plastics Manufacturing', 'Renewable Energy Semiconductor Manufacturing', 'Glass, Ceramics and Concrete Manufacturing', 'Packaging and Containers Manufacturing', 'Automation Machinery Manufacturing', 'Animal Feed Manufacturing', 'Meat Products Manufacturing', 'Baked Goods Manufacturing', 'Fashion Accessories Manufacturing', 'Footwear Manufacturing', 'Paint, Coating, and Adhesive Manufacturing', 'Rubber Products Manufacturing', 'Abrasives and Nonmetallic Minerals Manufacturing', 'Architectural and Structural Metal Manufacturing', 'Boilers, Tanks, and Shipping Container Manufacturing', 'Turned Products and Fastener Manufacturing', 'Metal Valve, Ball, and Roller Manufacturing', 'Measuring and Control Instrument Manufacturing', 'Magnetic and Optical Media Manufacturing', 'Household and Institutional Furniture Manufacturing', 'Office Furniture and Fixtures Manufacturing', 'Mattress and Blinds Manufacturing', 'Robot Manufacturing']\n",
      "\n"
     ]
    }
   ],
   "source": [
    "grouped_clusters = clustered_df_clusters.groupby('Cluster')\n",
    "\n",
    "# Print each cluster with its corresponding names\n",
    "for cluster_id, group in grouped_clusters:\n",
    "    print(f\"Cluster {cluster_id}:\")\n",
    "    print(group['Name'].tolist())\n",
    "    print() "
   ]
  },
  {
   "cell_type": "code",
   "execution_count": 87,
   "metadata": {},
   "outputs": [
    {
     "data": {
      "text/html": [
       "<div>\n",
       "<style scoped>\n",
       "    .dataframe tbody tr th:only-of-type {\n",
       "        vertical-align: middle;\n",
       "    }\n",
       "\n",
       "    .dataframe tbody tr th {\n",
       "        vertical-align: top;\n",
       "    }\n",
       "\n",
       "    .dataframe thead th {\n",
       "        text-align: right;\n",
       "    }\n",
       "</style>\n",
       "<table border=\"1\" class=\"dataframe\">\n",
       "  <thead>\n",
       "    <tr style=\"text-align: right;\">\n",
       "      <th></th>\n",
       "      <th>Name</th>\n",
       "      <th>Cluster</th>\n",
       "    </tr>\n",
       "  </thead>\n",
       "  <tbody>\n",
       "    <tr>\n",
       "      <th>0</th>\n",
       "      <td>Goods Producing</td>\n",
       "      <td>14</td>\n",
       "    </tr>\n",
       "    <tr>\n",
       "      <th>1</th>\n",
       "      <td>Service-Providing</td>\n",
       "      <td>13</td>\n",
       "    </tr>\n",
       "    <tr>\n",
       "      <th>2</th>\n",
       "      <td>Private Service Providing</td>\n",
       "      <td>13</td>\n",
       "    </tr>\n",
       "    <tr>\n",
       "      <th>3</th>\n",
       "      <td>Mining and Logging</td>\n",
       "      <td>35</td>\n",
       "    </tr>\n",
       "    <tr>\n",
       "      <th>4</th>\n",
       "      <td>Logging</td>\n",
       "      <td>35</td>\n",
       "    </tr>\n",
       "    <tr>\n",
       "      <th>...</th>\n",
       "      <td>...</td>\n",
       "      <td>...</td>\n",
       "    </tr>\n",
       "    <tr>\n",
       "      <th>674</th>\n",
       "      <td>Surveying and Mapping Services</td>\n",
       "      <td>1</td>\n",
       "    </tr>\n",
       "    <tr>\n",
       "      <th>675</th>\n",
       "      <td>Retail Pharmacies</td>\n",
       "      <td>38</td>\n",
       "    </tr>\n",
       "    <tr>\n",
       "      <th>676</th>\n",
       "      <td>Climate Technology Product Manufacturing</td>\n",
       "      <td>17</td>\n",
       "    </tr>\n",
       "    <tr>\n",
       "      <th>677</th>\n",
       "      <td>Climate Data and Analytics</td>\n",
       "      <td>13</td>\n",
       "    </tr>\n",
       "    <tr>\n",
       "      <th>678</th>\n",
       "      <td>Alternative Fuel Vehicle Manufacturing</td>\n",
       "      <td>13</td>\n",
       "    </tr>\n",
       "  </tbody>\n",
       "</table>\n",
       "<p>679 rows × 2 columns</p>\n",
       "</div>"
      ],
      "text/plain": [
       "                                         Name  Cluster\n",
       "0                             Goods Producing       14\n",
       "1                           Service-Providing       13\n",
       "2                   Private Service Providing       13\n",
       "3                          Mining and Logging       35\n",
       "4                                     Logging       35\n",
       "..                                        ...      ...\n",
       "674            Surveying and Mapping Services        1\n",
       "675                         Retail Pharmacies       38\n",
       "676  Climate Technology Product Manufacturing       17\n",
       "677                Climate Data and Analytics       13\n",
       "678    Alternative Fuel Vehicle Manufacturing       13\n",
       "\n",
       "[679 rows x 2 columns]"
      ]
     },
     "execution_count": 87,
     "metadata": {},
     "output_type": "execute_result"
    }
   ],
   "source": [
    "clustered_df_clusters"
   ]
  },
  {
   "cell_type": "code",
   "execution_count": null,
   "metadata": {},
   "outputs": [
    {
     "data": {
      "image/png": "[encoded data removed]",
      "text/plain": [
       "<Figure size 1000x500 with 1 Axes>"
      ]
     },
     "metadata": {},
     "output_type": "display_data"
    },
    {
     "data": {
      "text/plain": [
       "221"
      ]
     },
     "execution_count": 73,
     "metadata": {},
     "output_type": "execute_result"
    }
   ],
   "source": [
    "from sklearn.metrics import silhouette_score\n",
    "import matplotlib.pyplot as plt\n",
    "\n",
    "cluster_range = range(2, 301)\n",
    "silhouette_scores = []\n",
    "\n",
    "# Calculate silhouette score for each number of clusters\n",
    "for k in cluster_range:\n",
    "    kmeans = KMeans(n_clusters=k, random_state=42)\n",
    "    labels = kmeans.fit_predict(X_reduced)\n",
    "    silhouette_scores.append(silhouette_score(X_reduced, labels))\n",
    "\n",
    "# optimal number of clusters\n",
    "optimal_clusters = cluster_range[silhouette_scores.index(max(silhouette_scores))]\n",
    "\n",
    "plt.figure(figsize=(10, 5))\n",
    "plt.plot(cluster_range, silhouette_scores, marker='o', linestyle='-', label='Silhouette Score')\n",
    "plt.axvline(optimal_clusters, color='red', linestyle='--', label=f'Optimal Clusters: {optimal_clusters}')\n",
    "plt.title('Silhouette Score for Cluster Numbers (2-50)')\n",
    "plt.xlabel('Number of Clusters')\n",
    "plt.ylabel('Silhouette Score')\n",
    "plt.legend()\n",
    "plt.grid(True)\n",
    "plt.show()\n",
    "\n",
    "optimal_clusters\n"
   ]
  },
  {
   "cell_type": "markdown",
   "metadata": {},
   "source": [
    "### Although Silhouette Score shows that the optimal number of clusters is 221, we decided to decrease the number to 25 to have more broad category names for analysis purposes. The category names were generated with the help of GenAI such as ChatGPT."
   ]
  },
  {
   "cell_type": "code",
   "execution_count": 95,
   "metadata": {},
   "outputs": [
    {
     "name": "stderr",
     "output_type": "stream",
     "text": [
      "Classifying industry names: 100%|██████████| 679/679 [00:06<00:00, 109.14it/s]\n"
     ]
    }
   ],
   "source": [
    "from sentence_transformers import SentenceTransformer, util\n",
    "import torch\n",
    "from tqdm import tqdm\n",
    "\n",
    "# Load Sentence-BERT model\n",
    "model = SentenceTransformer('sentence-transformers/all-MiniLM-L6-v2')\n",
    "\n",
    "# Define the cluster names (categories) based on previous output\n",
    "cluster_names = [\n",
    "    \"Healthcare and Wellness\", \"Manufacturing and Retail Trade\", \"Energy, Mining, and Oil Industries\",\n",
    "    \"Equipment and Machinery Manufacturing\", \"Government and Public Administration\", \"Metal and Wood Products\",\n",
    "    \"Food and Beverage Industries\", \"Administrative and Support Services\", \"Design and Creative Services\",\n",
    "    \"Transportation and Logistics Support\", \"Automotive Industry\", \"Education and Training Services\",\n",
    "    \"Professional and Business Services\", \"Research and Biotechnology\", \"Construction and Building\",\n",
    "    \"Furniture and Home Goods\", \"Performing Arts and Sports\", \"Wholesale Trade\", \"Transportation and Warehousing\",\n",
    "    \"Real Estate and Office Services\", \"Textile and Paper Industries\", \"Chemical and Agricultural Products\",\n",
    "    \"Durable and Non-durable Goods\", \"General Manufacturing\", \"Advanced Manufacturing and Electronics\"\n",
    "]\n",
    "\n",
    "# Encode cluster names into embeddings\n",
    "cluster_embeddings = model.encode(cluster_names, convert_to_tensor=True)\n",
    "\n",
    "# Assign categories to industry names from the clusters\n",
    "industry_names = clustered_df_clusters['Name'].tolist()  # Names from the combined dataset\n",
    "assigned_categories = []\n",
    "\n",
    "for industry_name in tqdm(industry_names, desc=\"Classifying industry names\"):\n",
    "    # Encode the industry name\n",
    "    industry_embedding = model.encode(industry_name, convert_to_tensor=True)\n",
    "    # Compute similarities with cluster names\n",
    "    similarities = util.cos_sim(industry_embedding, cluster_embeddings)\n",
    "    # Find the best matching cluster\n",
    "    best_match_idx = int(similarities.argmax())\n",
    "    best_category = cluster_names[best_match_idx]\n",
    "    assigned_categories.append(best_category)"
   ]
  },
  {
   "cell_type": "code",
   "execution_count": 96,
   "metadata": {},
   "outputs": [],
   "source": [
    "api_industry_clusters = clustered_df_clusters[clustered_df_clusters['Name'].isin(api_industry['industry_name'])].copy()\n",
    "api_industry_clusters['Source'] = 'API'\n",
    "\n",
    "linkedin_industry_clusters = clustered_df_clusters[clustered_df_clusters['Name'].isin(linkedin_industry['industry_name'])].copy()\n",
    "linkedin_industry_clusters['Source'] = 'LinkedIn'\n",
    "\n",
    "# Merge into one DataFrame\n",
    "final_clusters_df = pd.concat([api_industry_clusters.rename(columns={'Name': 'Industry Name', 'Cluster': 'Cluster ID'}),\n",
    "                               linkedin_industry_clusters.rename(columns={'Name': 'Industry Name', 'Cluster': 'Cluster ID'})], ignore_index=True)\n",
    "\n",
    "final_clusters_df.to_csv('mappings.csv')"
   ]
  },
  {
   "cell_type": "code",
   "execution_count": 101,
   "metadata": {},
   "outputs": [
    {
     "name": "stdout",
     "output_type": "stream",
     "text": [
      "API and LinkedIn mappings have been saved successfully.\n"
     ]
    }
   ],
   "source": [
    "# Assign the computed categories to the DataFrame\n",
    "clustered_df_clusters['Cluster Name'] = assigned_categories\n",
    "\n",
    "# Separate API and LinkedIn industry names with their respective cluster names\n",
    "api_cluster_mapping = clustered_df_clusters[\n",
    "    clustered_df_clusters['Name'].isin(api_industry['industry_name'])\n",
    "][['Name', 'Cluster Name']].rename(columns={'Name': 'API Industry Name'})\n",
    "\n",
    "linkedin_cluster_mapping = clustered_df_clusters[\n",
    "    clustered_df_clusters['Name'].isin(linkedin_industry['industry_name'])\n",
    "][['Name', 'Cluster Name']].rename(columns={'Name': 'LinkedIn Industry Name'})\n",
    "\n",
    "# Save the results to separate CSV files\n",
    "api_cluster_mapping.to_csv('api_mappings.csv', index=False)\n",
    "linkedin_cluster_mapping.to_csv('linkedin_mappings.csv', index=False)\n",
    "\n",
    "print(\"API and LinkedIn mappings have been saved successfully.\")\n"
   ]
  }
 ],
 "metadata": {
  "kernelspec": {
   "display_name": "ml-nlp",
   "language": "python",
   "name": "python3"
  },
  "language_info": {
   "codemirror_mode": {
    "name": "ipython",
    "version": 3
   },
   "file_extension": ".py",
   "mimetype": "text/x-python",
   "name": "python",
   "nbconvert_exporter": "python",
   "pygments_lexer": "ipython3",
   "version": "3.10.14"
  }
 },
 "nbformat": 4,
 "nbformat_minor": 2
}
